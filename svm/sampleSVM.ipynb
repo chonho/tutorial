{
 "cells": [
  {
   "cell_type": "code",
   "execution_count": 16,
   "metadata": {},
   "outputs": [
    {
     "data": {
      "image/png": "[encoded data removed]",
      "text/plain": [
       "<matplotlib.figure.Figure at 0x1d3c2cb9828>"
      ]
     },
     "metadata": {},
     "output_type": "display_data"
    }
   ],
   "source": [
    "#!/usr/bin/env python\n",
    "# -*- coding: utf-8 -*-\n",
    "\n",
    "import numpy as np\n",
    "import matplotlib.pyplot as plt\n",
    "from sklearn import datasets\n",
    "from sklearn import svm\n",
    "\n",
    "# Iris dataset \n",
    "iris = datasets.load_iris()\n",
    "features = iris.data\n",
    "target = iris.target\n",
    "target_names = iris.target_names\n",
    "labels = target_names[target]\n",
    "\n",
    "# features: Petal length &  Petal width\n",
    "setosa_petal_length = features[labels == 'setosa', 2]\n",
    "setosa_petal_width = features[labels == 'setosa', 3]\n",
    "setosa = np.c_[setosa_petal_length, setosa_petal_width]\n",
    "versicolor_petal_length = features[labels == 'versicolor', 2]\n",
    "versicolor_petal_width = features[labels == 'versicolor', 3]\n",
    "versicolor = np.c_[versicolor_petal_length, versicolor_petal_width]\n",
    "virginica_petal_length = features[labels == 'virginica', 2]\n",
    "virginica_petal_width = features[labels == 'virginica', 3]\n",
    "virginica = np.c_[virginica_petal_length, virginica_petal_width]\n",
    "\n",
    "plt.scatter(setosa[:, 0], setosa[:, 1], color='red')\n",
    "plt.scatter(versicolor[:, 0], versicolor[:, 1], color='blue')\n",
    "plt.scatter(virginica[:, 0], virginica[:, 1], color='green')\n",
    "\n",
    "\n",
    "# prepare train data\n",
    "training_data = np.r_[setosa, versicolor, virginica]\n",
    "training_labels = np.r_[\n",
    "    np.zeros(len(setosa)),\n",
    "    np.ones(len(versicolor)),\n",
    "    np.ones(len(virginica)) * 2,\n",
    "]\n",
    "\n",
    "# training\n",
    "clf = svm.LinearSVC()\n",
    "clf.fit(training_data, training_labels)\n",
    "\n",
    "\n",
    "# plot mesh\n",
    "training_x_min = training_data[:, 0].min() - 1\n",
    "training_x_max = training_data[:, 0].max() + 1\n",
    "training_y_min = training_data[:, 1].min() - 1\n",
    "training_y_max = training_data[:, 1].max() + 1\n",
    "grid_interval = 0.02\n",
    "xx, yy = np.meshgrid(\n",
    "    np.arange(training_x_min, training_x_max, grid_interval),\n",
    "    np.arange(training_y_min, training_y_max, grid_interval),\n",
    ")\n",
    "\n",
    "# classify\n",
    "Z = clf.predict(np.c_[xx.ravel(), yy.ravel()])\n",
    "\n",
    "Z = Z.reshape(xx.shape)\n",
    "plt.contourf(xx, yy, Z, cmap=plt.cm.bone, alpha=0.2)\n",
    "\n",
    "plt.autoscale()\n",
    "plt.grid()\n",
    "plt.show()"
   ]
  },
  {
   "cell_type": "code",
   "execution_count": null,
   "metadata": {},
   "outputs": [],
   "source": []
  }
 ],
 "metadata": {
  "kernelspec": {
   "display_name": "Python 3",
   "language": "python",
   "name": "python3"
  },
  "language_info": {
   "codemirror_mode": {
    "name": "ipython",
    "version": 3
   },
   "file_extension": ".py",
   "mimetype": "text/x-python",
   "name": "python",
   "nbconvert_exporter": "python",
   "pygments_lexer": "ipython3",
   "version": "3.5.4"
  }
 },
 "nbformat": 4,
 "nbformat_minor": 2
}
